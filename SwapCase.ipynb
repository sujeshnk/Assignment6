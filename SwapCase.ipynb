{
  "nbformat": 4,
  "nbformat_minor": 0,
  "metadata": {
    "colab": {
      "name": "SwapCase.ipynb",
      "provenance": []
    },
    "kernelspec": {
      "name": "python3",
      "display_name": "Python 3"
    },
    "language_info": {
      "name": "python"
    }
  },
  "cells": [
    {
      "cell_type": "code",
      "metadata": {
        "id": "XsKbHYsqnhTW"
      },
      "source": [
        "def swap_case(s):\n",
        "  x=\"\"\n",
        "  for c in s:\n",
        "    if c.isupper():\n",
        "      c=c.lower()\n",
        "    else:\n",
        "        c=c.upper()\n",
        "        x+\"\".join(c)\n",
        "        return x\n",
        "        #swapcase() - Single line\n",
        "        #return s.swapcase()"
      ],
      "execution_count": 14,
      "outputs": []
    }
  ]
}